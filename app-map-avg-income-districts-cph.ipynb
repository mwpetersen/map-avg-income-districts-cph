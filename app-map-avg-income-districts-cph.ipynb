{
 "cells": [
  {
   "cell_type": "markdown",
   "id": "608c9057-9222-4fcc-8148-94c16873636e",
   "metadata": {},
   "source": [
    "# Dash web app with map of Copenhagen with average income for each district"
   ]
  },
  {
   "cell_type": "code",
   "execution_count": 1,
   "id": "842f0d97-370a-42ee-96d8-d91b6ea0f920",
   "metadata": {
    "tags": []
   },
   "outputs": [],
   "source": [
    "# Import modules\n",
    "from jupyter_dash import JupyterDash\n",
    "import dash\n",
    "import dash_core_components as dcc\n",
    "import dash_html_components as html\n",
    "import pandas as pd\n",
    "import plotly.express as px\n",
    "import plotly.graph_objects as go"
   ]
  },
  {
   "cell_type": "code",
   "execution_count": null,
   "id": "35607de3-74a5-4960-8961-79a2302168d4",
   "metadata": {},
   "outputs": [],
   "source": [
    "df = pd.read_csv()"
   ]
  }
 ],
 "metadata": {
  "kernelspec": {
   "display_name": "Python 3 (ipykernel)",
   "language": "python",
   "name": "python3"
  },
  "language_info": {
   "codemirror_mode": {
    "name": "ipython",
    "version": 3
   },
   "file_extension": ".py",
   "mimetype": "text/x-python",
   "name": "python",
   "nbconvert_exporter": "python",
   "pygments_lexer": "ipython3",
   "version": "3.9.1"
  }
 },
 "nbformat": 4,
 "nbformat_minor": 5
}
