{
 "cells": [
  {
   "cell_type": "code",
   "execution_count": 1,
   "id": "435f4176-3d2e-4b5f-a7c1-2d00a41c7c78",
   "metadata": {},
   "outputs": [],
   "source": [
    "# Import modules\n",
    "import json\n",
    "import pandas as pd\n",
    "import plotly.express as px\n",
    "from jupyter_dash import JupyterDash\n",
    "import dash\n",
    "import dash_core_components as dcc\n",
    "import dash_html_components as html\n",
    "from dash.dependencies import Input, Output"
   ]
  },
  {
   "cell_type": "code",
   "execution_count": 2,
   "id": "732bb2f2-dafe-4a2d-8dd0-5c79844a5709",
   "metadata": {},
   "outputs": [],
   "source": [
    "# Import geo data\n",
    "districts_cph = json.load(open(\"data/geodata-districts-cph.json\", \"r\", encoding='utf-8'))"
   ]
  },
  {
   "cell_type": "code",
   "execution_count": 3,
   "id": "a3de3a0f-0470-4275-a239-e87d3cfebe32",
   "metadata": {},
   "outputs": [],
   "source": [
    "# Create dictionary with district name and id\n",
    "districts_id_map = {}\n",
    "for feature in districts_cph[\"features\"]:\n",
    "    districts_id_map[feature[\"properties\"][\"navn\"]] = feature[\"id\"]"
   ]
  },
  {
   "cell_type": "code",
   "execution_count": 4,
   "id": "da97df11-1261-44f4-a9c0-a8d7dc712d69",
   "metadata": {},
   "outputs": [],
   "source": [
    "# Import income data\n",
    "df_income = pd.read_csv('data/avg-income-districts-cph.csv', encoding = \"ISO-8859-1\", sep=';')"
   ]
  },
  {
   "cell_type": "code",
   "execution_count": 5,
   "id": "599a2e73-3402-4beb-9da5-85a4a8ff72e1",
   "metadata": {},
   "outputs": [],
   "source": [
    "# Clean district rows\n",
    "df_income['district'] = df_income['district'].str[11:]"
   ]
  },
  {
   "cell_type": "code",
   "execution_count": 6,
   "id": "b9aabe10-a381-4195-87f0-80d6d6c88286",
   "metadata": {},
   "outputs": [],
   "source": [
    "# Change district name \n",
    "df_income['district'].replace({\"Vesterbro/Kongens Enghave\": \"Vesterbro-Kongens Enghave\"}, inplace=True)"
   ]
  },
  {
   "cell_type": "code",
   "execution_count": 7,
   "id": "414d633c-abf8-40bc-9c63-11b507e93ce3",
   "metadata": {},
   "outputs": [],
   "source": [
    "# Pivot data from wide to long format\n",
    "df_income_long = (df_income.melt(id_vars = 'district', \n",
    "                                 var_name = 'year', \n",
    "                                 value_name = 'avg_income')) # https://towardsdatascience.com/reshape-pandas-dataframe-with-melt-in-python-tutorial-and-visualization-29ec1450bb02"
   ]
  },
  {
   "cell_type": "code",
   "execution_count": 8,
   "id": "69f3254c-0299-44db-9e23-9ad62db49208",
   "metadata": {},
   "outputs": [],
   "source": [
    "# Convert the data type of the year column to numeric\n",
    "df_income_long['year'] = df_income_long['year'].astype(int)"
   ]
  },
  {
   "cell_type": "code",
   "execution_count": 9,
   "id": "b021e5c4-dd51-4d6c-9c24-52da2ecf0a2a",
   "metadata": {},
   "outputs": [],
   "source": [
    "# Create 'id' column\n",
    "df_income_long[\"id\"] = df_income_long[\"district\"].apply(lambda x: districts_id_map[x])"
   ]
  },
  {
   "cell_type": "code",
   "execution_count": 10,
   "id": "fd4a5a1a-ab1a-4ab2-9df2-85f3b496edab",
   "metadata": {},
   "outputs": [],
   "source": [
    "# Define values and text for the color bar\n",
    "max_value_colorbar = round(df_income_long['avg_income'].max(), -4) + 10000\n",
    "min_value_colorbar = round(df_income_long['avg_income'].min(), -4) - 10000\n",
    "\n",
    "colorbar_values = list(range(min_value_colorbar, max_value_colorbar, 40000))\n",
    "\n",
    "colorbar_text = list(map('{:,d}'.format, colorbar_values))\n",
    "\n",
    "# Change the thousand separator to a dot\n",
    "colorbar_text_dot = []\n",
    "\n",
    "for string in colorbar_text:\n",
    "    new_string = string.replace(\",\", \".\")\n",
    "    colorbar_text_dot.append(new_string)"
   ]
  },
  {
   "cell_type": "code",
   "execution_count": 12,
   "id": "771c8ffe-03c7-4fcb-8372-e0dab5918d83",
   "metadata": {},
   "outputs": [
    {
     "name": "stdout",
     "output_type": "stream",
     "text": [
      "Dash app running on http://127.0.0.1:8050/\n"
     ]
    },
    {
     "name": "stderr",
     "output_type": "stream",
     "text": [
      "c:\\users\\pdt265\\projekter\\map-avg-income-districts-cph\\env\\lib\\site-packages\\jupyter_dash\\jupyter_app.py:139: UserWarning:\n",
      "\n",
      "The 'environ['werkzeug.server.shutdown']' function is deprecated and will be removed in Werkzeug 2.1.\n",
      "\n"
     ]
    }
   ],
   "source": [
    "# Create app\n",
    "\n",
    "app = JupyterDash(__name__, meta_tags=[\n",
    "        {\"name\": \"viewport\", \"content\": \"width=device-width, initial-scale=1\"} # https://community.plotly.com/t/how-to-get-a-responsive-layout/18029\n",
    "    ])\n",
    "\n",
    "description = '''\n",
    "The interactive map on this page shows data about the average income in each of the ten districts of Copenhagen. \n",
    "Below you can choose which year data will be shown for. Data is from the City of Copenhagen Statbank.\n",
    "'''\n",
    "\n",
    "app.layout = html.Div(\n",
    "    className=\"page\",\n",
    "    children=[\n",
    "    html.Div(\n",
    "        className=\"main-content\",\n",
    "        children=[\n",
    "\n",
    "            html.H1(\"Change in the average income in the districts of Copenhagen\"),\n",
    "\n",
    "            dcc.Markdown(description,\n",
    "                className=\"text-description\"),\n",
    "\n",
    "            html.Label('Choose year:',\n",
    "                      className=\"slider-label\"),\n",
    "            dcc.Slider(\n",
    "                id='year-slider',\n",
    "                min=df_income_long['year'].min(),\n",
    "                max=df_income_long['year'].max(),\n",
    "                value=df_income_long['year'].max(),\n",
    "                marks={str(year): str(year) for year in df_income_long['year'].unique()},\n",
    "                step=None,\n",
    "                included=False,\n",
    "                className=\"map-slider\"\n",
    "            ),\n",
    "\n",
    "            dcc.Graph(\n",
    "                id='map-copenhagen',\n",
    "                config={\n",
    "                'displayModeBar': False,\n",
    "                'scrollZoom': False\n",
    "            })\n",
    "        ])\n",
    "    ])\n",
    "\n",
    "@app.callback(\n",
    "    Output('map-copenhagen', 'figure'),\n",
    "    Input('year-slider', 'value'))\n",
    "def update_figure(selected_year):\n",
    "    filtered_df = df_income_long[df_income_long.year == selected_year]\n",
    "\n",
    "    fig = px.choropleth_mapbox(\n",
    "    filtered_df,\n",
    "    locations=\"id\",\n",
    "    geojson=districts_cph,\n",
    "    color=\"avg_income\",\n",
    "    color_continuous_scale=\"YlGn\",\n",
    "    mapbox_style=\"carto-positron\",\n",
    "    center={\"lat\": 55.6760968, \"lon\": 12.5653311},\n",
    "    zoom=10.9,\n",
    "    height=800,\n",
    "    labels={'avg_income':'Average income'},\n",
    "    custom_data=[\"district\", \"year\", \"avg_income\"],\n",
    "    range_color=[min_value_colorbar, max_value_colorbar]\n",
    "    )\n",
    "\n",
    "    fig.update_layout(\n",
    "    font=dict(family='Roboto', size=16),\n",
    "    dragmode=False,\n",
    "    paper_bgcolor=\"#fbfbfb\",\n",
    "    hoverlabel=dict(\n",
    "        bgcolor=\"white\",\n",
    "        font_size=16,\n",
    "        font_family='Roboto'\n",
    "    ),\n",
    "    separators=\",.\",\n",
    "    coloraxis_colorbar=dict(\n",
    "        title='Average income',\n",
    "        len=0.7,\n",
    "        tickvals=colorbar_values,\n",
    "        ticktext=colorbar_text_dot\n",
    "        ),\n",
    "    margin=dict(l=0, r=0, t=0, b=0)\n",
    "    )\n",
    "\n",
    "    fig.update_traces(\n",
    "    hovertemplate=(\"</br><b>%{customdata[0]}</b></br>\" +\n",
    "                \"Year: %{customdata[1]}</br>\" +\n",
    "                \"Avg. income: %{customdata[2]:,.d} dkr.\"))\n",
    "\n",
    "    return fig\n",
    "\n",
    "\n",
    "# Run app and display result inline in the notebook\n",
    "app.run_server(mode='external')"
   ]
  },
  {
   "cell_type": "code",
   "execution_count": null,
   "id": "2496ceb7-4487-4c57-9eea-fb7a43e70a36",
   "metadata": {},
   "outputs": [],
   "source": []
  }
 ],
 "metadata": {
  "kernelspec": {
   "display_name": "Python 3 (ipykernel)",
   "language": "python",
   "name": "python3"
  },
  "language_info": {
   "codemirror_mode": {
    "name": "ipython",
    "version": 3
   },
   "file_extension": ".py",
   "mimetype": "text/x-python",
   "name": "python",
   "nbconvert_exporter": "python",
   "pygments_lexer": "ipython3",
   "version": "3.9.5"
  }
 },
 "nbformat": 4,
 "nbformat_minor": 5
}
